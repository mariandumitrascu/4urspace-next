{
 "cells": [
  {
   "cell_type": "code",
   "execution_count": null,
   "metadata": {},
   "outputs": [],
   "source": [
    "import json\n",
    "\n",
    "# Load the JSON files\n",
    "def load_json(file_path):\n",
    "    with open(file_path, 'r') as file:\n",
    "        return json.load(file)\n",
    "\n",
    "# File paths\n",
    "categories_path = '/Users/marian.dumitrascu/Library/CloudStorage/Dropbox/work-P/4urspace/4urspace-next-lll/temp_data/categories.json'\n",
    "cities_path = '/Users/marian.dumitrascu/Library/CloudStorage/Dropbox/work-P/4urspace/4urspace-next-lll/temp_data/cities.json'\n",
    "malls_path = '/Users/marian.dumitrascu/Library/CloudStorage/Dropbox/work-P/4urspace/4urspace-next-lll/temp_data/malls.json'\n",
    "vendors_path = '/Users/marian.dumitrascu/Library/CloudStorage/Dropbox/work-P/4urspace/4urspace-next-lll/temp_data/vendors.json'\n",
    "\n",
    "# Load data\n",
    "categories_data = load_json(categories_path)\n",
    "cities_data = load_json(cities_path)\n",
    "malls_data = load_json(malls_path)\n",
    "vendors_data = load_json(vendors_path)\n",
    "\n",
    "# Display sample data from each file to understand structure\n",
    "# sample_data = {\n",
    "#     \"categories\": categories_data[:5],  # Show first 5 records\n",
    "#     \"cities\": cities_data[:5],\n",
    "#     \"malls\": malls_data[:5],\n",
    "#     \"vendors\": vendors_data[:5]\n",
    "# }\n",
    "# sample_data\n",
    "\n",
    "sample_data2 = {\n",
    "    \"categories\": categories_data,\n",
    "    \"cities\": cities_data,\n",
    "    \"malls\": malls_data,\n",
    "    \"vendors\": vendors_data\n",
    "}\n",
    "sample_data2\n"
   ]
  },
  {
   "cell_type": "code",
   "execution_count": 2,
   "metadata": {},
   "outputs": [],
   "source": [
    "import pandas as pd\n",
    "\n",
    "# # Assuming categories_data is a list of dictionaries\n",
    "# categories_data = [{'cid': '32', 'pid': '230', 'lid': '20263', 'cgid': '3', 'cgname': \"Women's Apparel\"}, {'cid': '32', 'pid': '230', 'lid': '20263', 'cgid': '4', 'cgname': \"Women's Accessory\"}, {'cid': '32', 'pid': '747', 'lid': '20089', 'cgid': '3', 'cgname': \"Women's Apparel\"}, {'cid': '32', 'pid': '747', 'lid': '20089', 'cgid': '2', 'cgname': \"Men's Apparel\"}, {'cid': '32', 'pid': '4167', 'lid': '20174', 'cgid': '18', 'cgname': 'Jewelry & Watches'}]\n",
    "\n",
    "# Convert to columnar data\n",
    "categories_df = pd.json_normalize(categories_data)\n",
    "cities_df = pd.json_normalize(cities_data)\n",
    "malls_df = pd.json_normalize(malls_data)\n",
    "vendors_df = pd.json_normalize(vendors_data)\n",
    "\n",
    "categories_df.to_csv('temp_data/categories.csv', index=False)\n",
    "cities_df.to_csv('temp_data/cities.csv', index=False)\n",
    "malls_df.to_csv('temp_data/malls.csv', index=False)\n",
    "vendors_df.to_csv('temp_data/vendors.csv', index=False)\n",
    "\n",
    "# # Print the resulting dataframe\n",
    "# print(categoried_df)\n"
   ]
  },
  {
   "cell_type": "code",
   "execution_count": null,
   "metadata": {},
   "outputs": [],
   "source": [
    "# To analyze Category Distribution Across Cities, we need to link categories to cities via malls or directly through location IDs if applicable.\n",
    "\n",
    "# Convert lists to dictionaries for faster access\n",
    "cities_dict = {city['cid']: city for city in cities_data}\n",
    "malls_dict = {mall['lid']: mall for mall in malls_data}\n",
    "\n",
    "# Prepare a data structure to hold category distribution by city\n",
    "category_distribution = {}\n",
    "\n",
    "# Iterate over categories to populate the distribution\n",
    "for category in categories_data:\n",
    "    city_id = malls_dict.get(category['lid'], {}).get('city', 'Unknown')  # Get city from mall location ID\n",
    "    city_name = cities_dict.get(city_id, {}).get('cn', 'Unknown')  # Get city name from city ID\n",
    "\n",
    "    if city_name not in category_distribution:\n",
    "        category_distribution[city_name] = {}\n",
    "\n",
    "    category_name = category['cgname']\n",
    "    if category_name in category_distribution[city_name]:\n",
    "        category_distribution[city_name][category_name] += 1\n",
    "    else:\n",
    "        category_distribution[city_name][category_name] = 1\n",
    "\n",
    "# Output the top cities and their category distributions\n",
    "sorted_category_distribution = {k: v for k, v in sorted(category_distribution.items(), key=lambda item: len(item[1]), reverse=True)}\n",
    "sorted_category_distribution\n"
   ]
  }
 ],
 "metadata": {
  "kernelspec": {
   "display_name": "torch-03",
   "language": "python",
   "name": "python3"
  },
  "language_info": {
   "codemirror_mode": {
    "name": "ipython",
    "version": 3
   },
   "file_extension": ".py",
   "mimetype": "text/x-python",
   "name": "python",
   "nbconvert_exporter": "python",
   "pygments_lexer": "ipython3",
   "version": "3.9.13"
  }
 },
 "nbformat": 4,
 "nbformat_minor": 2
}
